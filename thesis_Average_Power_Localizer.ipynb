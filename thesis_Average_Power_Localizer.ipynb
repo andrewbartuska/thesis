{
 "cells": [
  {
   "cell_type": "markdown",
   "metadata": {},
   "source": [
    "# Average Power Figures"
   ]
  },
  {
   "cell_type": "code",
   "execution_count": 26,
   "metadata": {
    "collapsed": true
   },
   "outputs": [],
   "source": [
    "from __future__ import print_function\n",
    "\n",
    "import numpy as np\n",
    "import pandas as pd\n",
    "\n",
    "import matplotlib.pyplot as plt\n",
    "import seaborn as sns\n",
    "\n",
    "import json\n",
    "import os\n",
    "import mne\n",
    "\n",
    "import ecogtools\n",
    "from scipy.stats import ttest_ind\n",
    "\n",
    "%matplotlib inline"
   ]
  },
  {
   "cell_type": "code",
   "execution_count": 27,
   "metadata": {
    "collapsed": true
   },
   "outputs": [],
   "source": [
    "mne.set_log_level(verbose=False)"
   ]
  },
  {
   "cell_type": "markdown",
   "metadata": {},
   "source": [
    "# ToM Localizer Task"
   ]
  },
  {
   "cell_type": "code",
   "execution_count": 28,
   "metadata": {
    "collapsed": true
   },
   "outputs": [],
   "source": [
    "patient_num1 = \"2002\"\n",
    "\n",
    "channels1 = ['RTG22', 'RTG23', 'RTG24', 'RTG30', 'RTG31', 'RTG32', 'RTG38', 'RTG39', 'RTG40', 'RTG46', 'RTG47', 'RTG48']"
   ]
  },
  {
   "cell_type": "code",
   "execution_count": 29,
   "metadata": {
    "collapsed": false
   },
   "outputs": [
    {
     "name": "stdout",
     "output_type": "stream",
     "text": [
      "This filename (/Users/andrew_bartuska/lab/ecog_data_analysis/patient_2002/john_2002.fif) does not conform to MNE naming conventions. All raw files should end with raw.fif, raw_sss.fif, raw_tsss.fif, raw.fif.gz, raw_sss.fif.gz or raw_tsss.fif.gz\n"
     ]
    },
    {
     "name": "stderr",
     "output_type": "stream",
     "text": [
      "/Users/andrew_bartuska/lab/ecogtools/ecogtools.py:34: RuntimeWarning: This filename (/Users/andrew_bartuska/lab/ecog_data_analysis/patient_2002/john_2002.fif) does not conform to MNE naming conventions. All raw files should end with raw.fif, raw_sss.fif, raw_tsss.fif, raw.fif.gz, raw_sss.fif.gz or raw_tsss.fif.gz\n",
      "  self.phys = mne.io.read_raw_fif(self.ecogfile, preload=False)\n"
     ]
    }
   ],
   "source": [
    "data1 = ecogtools.ToM_Localizer(patient_num1)\n",
    "\n",
    "# Get the times for task from behavioral data1\n",
    "tmin = int(data1.trig_and_behav.loc[0, 'trigger_time']-10)\n",
    "tmax = int(data1.trig_and_behav.loc[59, 'trigger_time']+10)\n",
    "\n",
    "# Get only physiology data1 that we actually want to look at for task.\n",
    "data1.phys.crop(tmin=tmin, tmax=tmax)\n",
    "\n",
    "# Load data1 and pick only channels that we care about.\n",
    "data1.phys.load_data()\n",
    "data1.phys.pick_channels(channels1)\n",
    "\n",
    "data1.phys.filter(80, 160)\n",
    "data1.phys.apply_hilbert(envelope=True)\n",
    "\n",
    "# New epochs object for filtered/HT data1\n",
    "data1.initialize_epochs_object(channels1, tmin=-4., tmax=2., baseline=None)\n",
    "\n",
    "tmin = -2\n",
    "tmax = 0\n",
    "\n",
    "# Evoked power for Time of Response\n",
    "belief_tr1 = data1.epochs[\"b/time_of_resp\"].copy().crop(tmin=tmin, tmax=tmax).get_data()\n",
    "photo_tr1 = data1.epochs[\"p/time_of_resp\"].copy().crop(tmin=tmin, tmax=tmax).get_data()\n",
    "\n",
    "all_belief_means1 = np.mean(belief_tr1, axis=2)\n",
    "all_photo_means1 = np.mean(photo_tr1, axis=2)\n",
    "\n",
    "all_belief_means1 = np.swapaxes(all_belief_means1, 0, 1)\n",
    "all_photo_means1 = np.swapaxes(all_photo_means1, 0, 1)\n",
    "\n",
    "all_means1 = []\n",
    "for i in range(len(all_belief_means1)):\n",
    "    all_means1.append(all_belief_means1[i])\n",
    "    all_means1.append(all_photo_means1[i])"
   ]
  },
  {
   "cell_type": "code",
   "execution_count": 30,
   "metadata": {
    "collapsed": false
   },
   "outputs": [
    {
     "name": "stdout",
     "output_type": "stream",
     "text": [
      "RTG22    Ttest_indResult(statistic=1.5943548010304347, pvalue=0.12826435193386934)\n",
      "RTG23    Ttest_indResult(statistic=-0.46013146401164601, pvalue=0.65093152251283892)\n",
      "RTG24    Ttest_indResult(statistic=0.15393406164622653, pvalue=0.87937445083353094)\n",
      "RTG30    Ttest_indResult(statistic=0.097324807822217946, pvalue=0.92354397206303029)\n",
      "RTG31    Ttest_indResult(statistic=1.5074359282923178, pvalue=0.14904926859065099)\n",
      "RTG32    Ttest_indResult(statistic=-1.5995325252245662, pvalue=0.1271072239963171)\n",
      "RTG38    Ttest_indResult(statistic=0.31432214689477711, pvalue=0.75689036744938776)\n",
      "RTG39    Ttest_indResult(statistic=-0.38756703153332778, pvalue=0.70288121328034114)\n",
      "RTG40    Ttest_indResult(statistic=-0.4220293600443914, pvalue=0.67800130724935659)\n",
      "RTG46    Ttest_indResult(statistic=-0.75357852900946154, pvalue=0.4608466736517921)\n",
      "RTG47    Ttest_indResult(statistic=1.3376744595910779, pvalue=0.19765972621405764)\n",
      "RTG48    Ttest_indResult(statistic=-0.62540336251414075, pvalue=0.53955530093726933)\n"
     ]
    }
   ],
   "source": [
    "for i in range(len(channels1)):\n",
    "    print(channels1[i], \"  \", ttest_ind(all_belief_means1[i], all_photo_means1[i]))"
   ]
  },
  {
   "cell_type": "code",
   "execution_count": 31,
   "metadata": {
    "collapsed": true
   },
   "outputs": [],
   "source": [
    "patient_num2 = \"2003\"\n",
    "\n",
    "channels2 = ['LTG5', 'LTG6', 'LTG7', 'LTG8', 'LTG13', 'LTG14', 'LTG15', 'LTG16', 'LTG21', 'LTG22', 'LTG23', 'LTG24']"
   ]
  },
  {
   "cell_type": "code",
   "execution_count": 32,
   "metadata": {
    "collapsed": false
   },
   "outputs": [
    {
     "name": "stdout",
     "output_type": "stream",
     "text": [
      "This filename (/Users/andrew_bartuska/lab/ecog_data_analysis/patient_2003/john_2003.fif) does not conform to MNE naming conventions. All raw files should end with raw.fif, raw_sss.fif, raw_tsss.fif, raw.fif.gz, raw_sss.fif.gz or raw_tsss.fif.gz\n"
     ]
    },
    {
     "name": "stderr",
     "output_type": "stream",
     "text": [
      "/Users/andrew_bartuska/lab/ecogtools/ecogtools.py:34: RuntimeWarning: This filename (/Users/andrew_bartuska/lab/ecog_data_analysis/patient_2003/john_2003.fif) does not conform to MNE naming conventions. All raw files should end with raw.fif, raw_sss.fif, raw_tsss.fif, raw.fif.gz, raw_sss.fif.gz or raw_tsss.fif.gz\n",
      "  self.phys = mne.io.read_raw_fif(self.ecogfile, preload=False)\n"
     ]
    }
   ],
   "source": [
    "data2 = ecogtools.ToM_Localizer(patient_num2)\n",
    "\n",
    "# Get the times for task from behavioral data2\n",
    "tmin = int(data2.trig_and_behav.loc[0, 'trigger_time']-10)\n",
    "tmax = int(data2.trig_and_behav.loc[59, 'trigger_time']+10)\n",
    "\n",
    "# Get only physiology data2 that we actually want to look at for task.\n",
    "data2.phys.crop(tmin=tmin, tmax=tmax)\n",
    "\n",
    "# Load data2 and pick only channels that we care about.\n",
    "data2.phys.load_data()\n",
    "data2.phys.pick_channels(channels2)\n",
    "\n",
    "data2.phys.filter(80, 160)\n",
    "data2.phys.apply_hilbert(envelope=True)\n",
    "\n",
    "# New epochs object for filtered/HT data2\n",
    "data2.initialize_epochs_object(channels2, tmin=-4., tmax=2., baseline=None)\n",
    "\n",
    "tmin = -2\n",
    "tmax = 0\n",
    "\n",
    "# Evoked power for Time of Response\n",
    "belief_tr2 = data2.epochs[\"b/time_of_resp\"].copy().crop(tmin=tmin, tmax=tmax).get_data()\n",
    "photo_tr2 = data2.epochs[\"p/time_of_resp\"].copy().crop(tmin=tmin, tmax=tmax).get_data()\n",
    "\n",
    "all_belief_means2 = np.mean(belief_tr2, axis=2)\n",
    "all_photo_means2 = np.mean(photo_tr2, axis=2)\n",
    "\n",
    "all_belief_means2 = np.swapaxes(all_belief_means2, 0, 1)\n",
    "all_photo_means2 = np.swapaxes(all_photo_means2, 0, 1)\n",
    "\n",
    "all_means2 = []\n",
    "for i in range(len(all_belief_means2)):\n",
    "    all_means2.append(all_belief_means2[i])\n",
    "    all_means2.append(all_photo_means2[i])"
   ]
  },
  {
   "cell_type": "code",
   "execution_count": 33,
   "metadata": {
    "collapsed": false
   },
   "outputs": [
    {
     "name": "stdout",
     "output_type": "stream",
     "text": [
      "LTG5    Ttest_indResult(statistic=0.36716553145985376, pvalue=0.71777668903949587)\n",
      "LTG6    Ttest_indResult(statistic=-0.51397109394020191, pvalue=0.61352428686361482)\n",
      "LTG7    Ttest_indResult(statistic=0.82791718012937998, pvalue=0.41855961490172167)\n",
      "LTG8    Ttest_indResult(statistic=1.8523867062846382, pvalue=0.080441842684873907)\n",
      "LTG13    Ttest_indResult(statistic=0.069810763928429068, pvalue=0.94511401318498067)\n",
      "LTG14    Ttest_indResult(statistic=0.25359516425820355, pvalue=0.80268228689235244)\n",
      "LTG15    Ttest_indResult(statistic=0.76985399778307717, pvalue=0.45137229670943557)\n",
      "LTG16    Ttest_indResult(statistic=0.59297257392619562, pvalue=0.56057662108481932)\n",
      "LTG21    Ttest_indResult(statistic=0.53331252290043218, pvalue=0.6003411396395566)\n",
      "LTG22    Ttest_indResult(statistic=-0.49158568336575931, pvalue=0.62895305988603822)\n",
      "LTG23    Ttest_indResult(statistic=0.67781970509184775, pvalue=0.50650623175350495)\n",
      "LTG24    Ttest_indResult(statistic=-0.16536023840290287, pvalue=0.87050346286773894)\n"
     ]
    }
   ],
   "source": [
    "for i in range(len(channels2)):\n",
    "    print(channels2[i], \"  \", ttest_ind(all_belief_means2[i], all_photo_means2[i]))"
   ]
  },
  {
   "cell_type": "code",
   "execution_count": 34,
   "metadata": {
    "collapsed": true
   },
   "outputs": [],
   "source": [
    "patient_num3 = \"2007\"\n",
    "channels3 = ['RFG5', 'RFG6', 'RFG7', 'RFG8', 'RFG13', 'RFG14', 'RFG15', 'RFG16', 'RFG21', 'RFG22', 'RFG23', 'RFG24']\n",
    "#channels = ['RFG22', 'RFG23', 'RFG24', 'RFG30', 'RFG31', 'RFG32', 'RFG38', 'RFG39', 'RFG40', 'RFG46', 'RFG47', 'RFG48']"
   ]
  },
  {
   "cell_type": "code",
   "execution_count": 35,
   "metadata": {
    "collapsed": false
   },
   "outputs": [
    {
     "name": "stdout",
     "output_type": "stream",
     "text": [
      "This filename (/Users/andrew_bartuska/lab/ecog_data_analysis/patient_2007/john_2007.fif) does not conform to MNE naming conventions. All raw files should end with raw.fif, raw_sss.fif, raw_tsss.fif, raw.fif.gz, raw_sss.fif.gz or raw_tsss.fif.gz\n"
     ]
    },
    {
     "name": "stderr",
     "output_type": "stream",
     "text": [
      "/Users/andrew_bartuska/lab/ecogtools/ecogtools.py:34: RuntimeWarning: This filename (/Users/andrew_bartuska/lab/ecog_data_analysis/patient_2007/john_2007.fif) does not conform to MNE naming conventions. All raw files should end with raw.fif, raw_sss.fif, raw_tsss.fif, raw.fif.gz, raw_sss.fif.gz or raw_tsss.fif.gz\n",
      "  self.phys = mne.io.read_raw_fif(self.ecogfile, preload=False)\n"
     ]
    }
   ],
   "source": [
    "data3 = ecogtools.ToM_Localizer(patient_num3)\n",
    "\n",
    "# Get the times for task from behavioral data3\n",
    "tmin = int(data3.trig_and_behav.loc[0, 'trigger_time']-10)\n",
    "tmax = int(data3.trig_and_behav.loc[59, 'trigger_time']+10)\n",
    "\n",
    "# Get only physiology data3 that we actually want to look at for task.\n",
    "data3.phys.crop(tmin=tmin, tmax=tmax)\n",
    "\n",
    "# Load data3 and pick only channels that we care about.\n",
    "data3.phys.load_data()\n",
    "data3.phys.pick_channels(channels3)\n",
    "\n",
    "data3.phys.filter(80, 160)\n",
    "data3.phys.apply_hilbert(envelope=True)\n",
    "\n",
    "# New epochs object for filtered/HT data3\n",
    "data3.initialize_epochs_object(channels3, tmin=-4., tmax=2., baseline=None)\n",
    "\n",
    "tmin = -2\n",
    "tmax = 0\n",
    "\n",
    "# Evoked power for Time of Response\n",
    "belief_tr3 = data3.epochs[\"b/time_of_resp\"].copy().crop(tmin=tmin, tmax=tmax).get_data()\n",
    "photo_tr3 = data3.epochs[\"p/time_of_resp\"].copy().crop(tmin=tmin, tmax=tmax).get_data()\n",
    "\n",
    "all_belief_means3 = np.mean(belief_tr3, axis=2)\n",
    "all_photo_means3 = np.mean(photo_tr3, axis=2)\n",
    "\n",
    "all_belief_means3 = np.swapaxes(all_belief_means3, 0, 1)\n",
    "all_photo_means3 = np.swapaxes(all_photo_means3, 0, 1)\n",
    "\n",
    "all_means3 = []\n",
    "for i in range(len(all_belief_means3)):\n",
    "    all_means3.append(all_belief_means3[i])\n",
    "    all_means3.append(all_photo_means3[i])"
   ]
  },
  {
   "cell_type": "code",
   "execution_count": 36,
   "metadata": {
    "collapsed": false
   },
   "outputs": [
    {
     "name": "stdout",
     "output_type": "stream",
     "text": [
      "RFG5    Ttest_indResult(statistic=-0.077802245895683284, pvalue=0.93884370362434932)\n",
      "RFG6    Ttest_indResult(statistic=0.5660932310936706, pvalue=0.57832049962478638)\n",
      "RFG7    Ttest_indResult(statistic=0.52924663988377318, pvalue=0.60310089977070436)\n",
      "RFG8    Ttest_indResult(statistic=1.4706580051486478, pvalue=0.1586489156094078)\n",
      "RFG13    Ttest_indResult(statistic=0.49676816346241087, pvalue=0.62536508759590936)\n",
      "RFG14    Ttest_indResult(statistic=0.52136364306481653, pvalue=0.60846914099281224)\n",
      "RFG15    Ttest_indResult(statistic=1.4753052470863619, pvalue=0.15740853118881848)\n",
      "RFG16    Ttest_indResult(statistic=0.24106742491944777, pvalue=0.81222745365726445)\n",
      "RFG21    Ttest_indResult(statistic=0.61071881083489454, pvalue=0.54902044822348595)\n",
      "RFG22    Ttest_indResult(statistic=0.59707177746246198, pvalue=0.55789593526399828)\n",
      "RFG23    Ttest_indResult(statistic=0.16869005251895594, pvalue=0.867921549711132)\n",
      "RFG24    Ttest_indResult(statistic=-0.090559962736393468, pvalue=0.92884238674711739)\n"
     ]
    }
   ],
   "source": [
    "for i in range(len(channels3)):\n",
    "    print(channels3[i], \"  \", ttest_ind(all_belief_means3[i], all_photo_means3[i]))"
   ]
  },
  {
   "cell_type": "markdown",
   "metadata": {},
   "source": [
    "# Figure 4"
   ]
  },
  {
   "cell_type": "code",
   "execution_count": 47,
   "metadata": {
    "collapsed": false
   },
   "outputs": [
    {
     "data": {
      "image/png": "[encoded data removed]",
      "text/plain": [
       "<matplotlib.figure.Figure at 0x1278c9790>"
      ]
     },
     "metadata": {},
     "output_type": "display_data"
    }
   ],
   "source": [
    "fig, axes = plt.subplots(3, 1)\n",
    "fig.set_size_inches(6.5, 8.5);\n",
    "#plt.suptitle(\"Average Power preceeding Time of Response\", size=\"x-large\")\n",
    "\n",
    "boxColors= ['#1f78b4', '#33a02c']\n",
    "medianColor= \"white\"\n",
    "\n",
    "bp1 = axes[0].boxplot(all_means1, patch_artist=True);\n",
    "plt.setp(bp1['boxes'][0::2], color=boxColors[0], linewidth=1.5)\n",
    "plt.setp(bp1['boxes'][1::2], color=boxColors[1], linewidth=1.5)\n",
    "plt.setp(bp1['medians'], color=medianColor, linewidth=1.25)\n",
    "plt.setp(bp1['whiskers'], color='black', linewidth=1.25, linestyle='solid')\n",
    "plt.setp(bp1['caps'], color='black', linewidth=1.25)\n",
    "plt.sca(axes[0])\n",
    "plt.xticks(np.arange(1, len(channels1)*2+1, 2), channels1, rotation=45);\n",
    "axes[0].set_yticklabels(axes[0].get_yticks()*1000000)\n",
    "axes[0].set_title(\"Patient 1\");\n",
    "axes[0].set_axis_bgcolor('white')\n",
    "axes[0].set_ylim(0.000002, 0.000009)\n",
    "axes[0].set_ylabel(\"microVolts\")\n",
    "\n",
    "\n",
    "bp2 = axes[1].boxplot(all_means2, patch_artist=True);\n",
    "plt.setp(bp2['boxes'][0::2], color=boxColors[0], linewidth=1.5)\n",
    "plt.setp(bp2['boxes'][1::2], color=boxColors[1], linewidth=1.5)\n",
    "plt.setp(bp2['medians'], color=medianColor, linewidth=1.25)\n",
    "plt.setp(bp2['whiskers'], color='black', linewidth=1.25, linestyle='solid')\n",
    "plt.setp(bp2['caps'], color='black', linewidth=1.25)\n",
    "plt.sca(axes[1])\n",
    "plt.xticks(np.arange(1, len(channels2)*2+1, 2), channels2, rotation=45);\n",
    "axes[1].set_yticklabels(axes[1].get_yticks()*1000000)\n",
    "axes[1].set_title(\"Patient 2\")\n",
    "axes[1].set_axis_bgcolor('white')\n",
    "#axes[1].set_ylim(0.000002, 0.000009)\n",
    "axes[1].set_ylabel(\"microVolts\")\n",
    "\n",
    "bp3 = axes[2].boxplot(all_means3, patch_artist=True);\n",
    "plt.setp(bp3['boxes'][0::2], color=boxColors[0], linewidth=1.5)\n",
    "plt.setp(bp3['boxes'][1::2], color=boxColors[1], linewidth=1.5)\n",
    "plt.setp(bp3['medians'], color=medianColor, linewidth=1.25)\n",
    "plt.setp(bp3['whiskers'], color='black', linewidth=1.25, linestyle='solid')\n",
    "plt.setp(bp3['caps'], color='black', linewidth=1.25)\n",
    "plt.sca(axes[2])\n",
    "plt.xticks(np.arange(1, len(channels3)*2+1, 2), channels3, rotation=45);\n",
    "axes[2].set_yticklabels(axes[2].get_yticks()*1000000)\n",
    "axes[2].set_title(\"Patient 3\")\n",
    "axes[2].set_axis_bgcolor('white')\n",
    "#axes[2].set_ylim(0.000002, 0.000009)\n",
    "axes[2].set_ylabel(\"microVolts\")\n",
    "\n",
    "plt.figtext(0.80, 0.9, 'Belief condition',\n",
    "            backgroundcolor=boxColors[0], color='white', weight='roman', size='medium')\n",
    "plt.figtext(0.80, 0.87, 'Photo condition',\n",
    "            backgroundcolor=boxColors[1], color='white', weight='roman', size='medium')\n",
    "\n",
    "plt.tight_layout()\n",
    "fig.savefig(\"F4-Average Power Loc.pdf\")"
   ]
  },
  {
   "cell_type": "markdown",
   "metadata": {},
   "source": [
    "# ToM and Attention Task"
   ]
  },
  {
   "cell_type": "code",
   "execution_count": 39,
   "metadata": {
    "collapsed": false
   },
   "outputs": [
    {
     "name": "stdout",
     "output_type": "stream",
     "text": [
      "This filename (/Users/andrew_bartuska/lab/ecog_data_analysis/patient_2002/john_2002.fif) does not conform to MNE naming conventions. All raw files should end with raw.fif, raw_sss.fif, raw_tsss.fif, raw.fif.gz, raw_sss.fif.gz or raw_tsss.fif.gz\n"
     ]
    },
    {
     "name": "stderr",
     "output_type": "stream",
     "text": [
      "/Users/andrew_bartuska/lab/ecogtools/ecogtools.py:34: RuntimeWarning: This filename (/Users/andrew_bartuska/lab/ecog_data_analysis/patient_2002/john_2002.fif) does not conform to MNE naming conventions. All raw files should end with raw.fif, raw_sss.fif, raw_tsss.fif, raw.fif.gz, raw_sss.fif.gz or raw_tsss.fif.gz\n",
      "  self.phys = mne.io.read_raw_fif(self.ecogfile, preload=False)\n"
     ]
    }
   ],
   "source": [
    "data4 = ecogtools.ToM_2010(patient_num1)\n",
    "\n",
    "# Get the times for task from behavioral data4\n",
    "tmin = int(data4.trig_and_behav.loc[0, 'trigger_time']-10)\n",
    "tmax = int(data4.trig_and_behav.loc[59, 'trigger_time']+10)\n",
    "\n",
    "# Get only physiology data4 that we actually want to look at for task.\n",
    "data4.phys.crop(tmin=tmin, tmax=tmax)\n",
    "\n",
    "# Load data4 and pick only channels that we care about.\n",
    "data4.phys.load_data()\n",
    "data4.phys.pick_channels(channels1)\n",
    "\n",
    "data4.phys.filter(80, 160)\n",
    "data4.phys.apply_hilbert(envelope=True)\n",
    "\n",
    "# New epochs object for filtered/HT data4\n",
    "data4.initialize_epochs_object(channels1, tmin=-6., tmax=6., baseline=None)\n",
    "\n",
    "tmin = -1\n",
    "tmax = 0\n",
    "\n",
    "# Evoked power for Time of Response\n",
    "#this was changed to specify mental/expected, physical/expected, mental/unexpected, and physical/unexpected \n",
    "ME_tr4 = data4.epochs[\"mental/expected/time_of_response\"].copy().crop(tmin=tmin, tmax=tmax).get_data()\n",
    "PE_tr4 = data4.epochs[\"physical/expected/time_of_response\"].copy().crop(tmin=tmin, tmax=tmax).get_data()\n",
    "MU_tr4 = data4.epochs[\"mental/unexpected/time_of_response\"].copy().crop(tmin=tmin, tmax=tmax).get_data()\n",
    "PU_tr4 = data4.epochs[\"physical/unexpected/time_of_response\"].copy().crop(tmin=tmin, tmax=tmax).get_data()\n",
    "\n",
    "#new code\n",
    "df_list = []\n",
    "for pwr, mp, eu in zip([ME_tr4, PE_tr4, MU_tr4, PU_tr4], \n",
    "                       ['mental', 'physical', 'mental', 'physical'], \n",
    "                       ['expected', 'expected', 'unexpected', 'unexpected']):\n",
    "    dd = pd.DataFrame(np.mean(pwr, axis=2), columns=channels1)\n",
    "    dd = dd.stack().reset_index()\n",
    "    dd.columns = ['trial', 'channel', 'power']\n",
    "    dd['mp'] = mp\n",
    "    dd['eu'] = eu\n",
    "    df_list.append(dd)\n",
    "pwr_df4 = pd.concat(df_list)"
   ]
  },
  {
   "cell_type": "code",
   "execution_count": 41,
   "metadata": {
    "collapsed": false
   },
   "outputs": [
    {
     "name": "stdout",
     "output_type": "stream",
     "text": [
      "RTG22\n",
      "                sum_sq    df         F    PR(>F)\n",
      "mp        6.035748e-16   1.0  0.008427  0.927931\n",
      "eu        2.895589e-14   1.0  0.404275  0.533357\n",
      "Residual  1.217612e-12  17.0       NaN       NaN\n",
      "\n",
      "RTG23\n",
      "                sum_sq    df         F    PR(>F)\n",
      "mp        4.271892e-12   1.0  5.507615  0.031309\n",
      "eu        1.627388e-14   1.0  0.020981  0.886533\n",
      "Residual  1.318577e-11  17.0       NaN       NaN\n",
      "\n",
      "RTG24\n",
      "                sum_sq    df         F    PR(>F)\n",
      "mp        7.043462e-15   1.0  0.089377  0.768595\n",
      "eu        5.996255e-14   1.0  0.760886  0.395205\n",
      "Residual  1.339706e-12  17.0       NaN       NaN\n",
      "\n",
      "RTG30\n",
      "                sum_sq    df         F    PR(>F)\n",
      "mp        5.386974e-15   1.0  0.110134  0.744048\n",
      "eu        4.147012e-14   1.0  0.847834  0.370049\n",
      "Residual  8.315217e-13  17.0       NaN       NaN\n",
      "\n",
      "RTG31\n",
      "                sum_sq    df         F   PR(>F)\n",
      "mp        1.176295e-13   1.0  1.771194  0.20081\n",
      "eu        1.792245e-13   1.0  2.698654  0.11880\n",
      "Residual  1.129013e-12  17.0       NaN      NaN\n",
      "\n",
      "RTG32\n",
      "                sum_sq    df         F    PR(>F)\n",
      "mp        1.331220e-13   1.0  0.440449  0.515806\n",
      "eu        8.943395e-14   1.0  0.295902  0.593526\n",
      "Residual  5.138114e-12  17.0       NaN       NaN\n",
      "\n",
      "RTG38\n",
      "                sum_sq    df         F    PR(>F)\n",
      "mp        3.240522e-15   1.0  0.021100  0.886215\n",
      "eu        5.258621e-14   1.0  0.342408  0.566130\n",
      "Residual  2.610824e-12  17.0       NaN       NaN\n",
      "\n",
      "RTG39\n",
      "                sum_sq    df         F    PR(>F)\n",
      "mp        1.309640e-14   1.0  0.055916  0.815897\n",
      "eu        6.626974e-13   1.0  2.829429  0.110827\n",
      "Residual  3.981671e-12  17.0       NaN       NaN\n",
      "\n",
      "RTG40\n",
      "                sum_sq    df         F    PR(>F)\n",
      "mp        1.861874e-15   1.0  0.010992  0.917726\n",
      "eu        1.889937e-14   1.0  0.111580  0.742437\n",
      "Residual  2.879440e-12  17.0       NaN       NaN\n",
      "\n",
      "RTG46\n",
      "                sum_sq    df         F    PR(>F)\n",
      "mp        1.838973e-13   1.0  3.769856  0.068945\n",
      "eu        8.620031e-15   1.0  0.176709  0.679483\n",
      "Residual  8.292768e-13  17.0       NaN       NaN\n",
      "\n",
      "RTG47\n",
      "                sum_sq    df         F    PR(>F)\n",
      "mp        6.327481e-14   1.0  0.456159  0.508508\n",
      "eu        2.250738e-13   1.0  1.622595  0.219871\n",
      "Residual  2.358109e-12  17.0       NaN       NaN\n",
      "\n",
      "RTG48\n",
      "                sum_sq    df         F    PR(>F)\n",
      "mp        1.073173e-13   1.0  0.231309  0.636686\n",
      "eu        5.420099e-14   1.0  0.116824  0.736694\n",
      "Residual  7.887250e-12  17.0       NaN       NaN\n",
      "\n"
     ]
    }
   ],
   "source": [
    "#new code\n",
    "import pandas as pd\n",
    "import statsmodels.api as sm\n",
    "from statsmodels.formula.api import ols\n",
    "from statsmodels.stats.anova import anova_lm\n",
    "\n",
    "for i in channels1:\n",
    "    pwr_lm4 = ols('power ~ mp + eu', data=pwr_df4[pwr_df4.channel == i]).fit()\n",
    "    table4 = sm.stats.anova_lm(pwr_lm4, typ=2)\n",
    "    print(i)\n",
    "    print(table4)\n",
    "    print()"
   ]
  },
  {
   "cell_type": "code",
   "execution_count": 42,
   "metadata": {
    "collapsed": false
   },
   "outputs": [
    {
     "name": "stdout",
     "output_type": "stream",
     "text": [
      "This filename (/Users/andrew_bartuska/lab/ecog_data_analysis/patient_2003/john_2003.fif) does not conform to MNE naming conventions. All raw files should end with raw.fif, raw_sss.fif, raw_tsss.fif, raw.fif.gz, raw_sss.fif.gz or raw_tsss.fif.gz\n"
     ]
    },
    {
     "name": "stderr",
     "output_type": "stream",
     "text": [
      "/Users/andrew_bartuska/lab/ecogtools/ecogtools.py:34: RuntimeWarning: This filename (/Users/andrew_bartuska/lab/ecog_data_analysis/patient_2003/john_2003.fif) does not conform to MNE naming conventions. All raw files should end with raw.fif, raw_sss.fif, raw_tsss.fif, raw.fif.gz, raw_sss.fif.gz or raw_tsss.fif.gz\n",
      "  self.phys = mne.io.read_raw_fif(self.ecogfile, preload=False)\n"
     ]
    }
   ],
   "source": [
    "data5 = ecogtools.ToM_2010(patient_num2)\n",
    "\n",
    "# Get the times for task from behavioral data5\n",
    "tmin = int(data5.trig_and_behav.loc[0, 'trigger_time']-10)\n",
    "tmax = int(data5.trig_and_behav.loc[59, 'trigger_time']+10)\n",
    "\n",
    "# Get only physiology data5 that we actually want to look at for task.\n",
    "data5.phys.crop(tmin=tmin, tmax=tmax)\n",
    "\n",
    "# Load data5 and pick only channels that we care about.\n",
    "data5.phys.load_data()\n",
    "data5.phys.pick_channels(channels2)\n",
    "\n",
    "data5.phys.filter(80, 160)\n",
    "data5.phys.apply_hilbert(envelope=True)\n",
    "\n",
    "# New epochs object for filtered/HT data5\n",
    "data5.initialize_epochs_object(channels2, tmin=-6., tmax=6., baseline=None)\n",
    "\n",
    "tmin = -1\n",
    "tmax = 0\n",
    "\n",
    "# Evoked power for Time of Response\n",
    "#this was changed to specify mental/expected, physical/expected, mental/unexpected, and physical/unexpected \n",
    "ME_tr5 = data5.epochs[\"mental/expected/time_of_response\"].copy().crop(tmin=tmin, tmax=tmax).get_data()\n",
    "PE_tr5 = data5.epochs[\"physical/expected/time_of_response\"].copy().crop(tmin=tmin, tmax=tmax).get_data()\n",
    "MU_tr5 = data5.epochs[\"mental/unexpected/time_of_response\"].copy().crop(tmin=tmin, tmax=tmax).get_data()\n",
    "PU_tr5 = data5.epochs[\"physical/unexpected/time_of_response\"].copy().crop(tmin=tmin, tmax=tmax).get_data()\n",
    "\n",
    "#new code\n",
    "df_list = []\n",
    "for pwr, mp, eu in zip([ME_tr5, PE_tr5, MU_tr5, PU_tr5], \n",
    "                       ['mental', 'physical', 'mental', 'physical'], \n",
    "                       ['expected', 'expected', 'unexpected', 'unexpected']):\n",
    "    dd = pd.DataFrame(np.mean(pwr, axis=2), columns=channels2)\n",
    "    dd = dd.stack().reset_index()\n",
    "    dd.columns = ['trial', 'channel', 'power']\n",
    "    dd['mp'] = mp\n",
    "    dd['eu'] = eu\n",
    "    df_list.append(dd)\n",
    "pwr_df5 = pd.concat(df_list)"
   ]
  },
  {
   "cell_type": "code",
   "execution_count": 43,
   "metadata": {
    "collapsed": false
   },
   "outputs": [
    {
     "name": "stdout",
     "output_type": "stream",
     "text": [
      "LTG5\n",
      "                sum_sq    df         F    PR(>F)\n",
      "mp        2.344304e-15   1.0  0.017513  0.896271\n",
      "eu        4.769984e-16   1.0  0.003563  0.953095\n",
      "Residual  2.275598e-12  17.0       NaN       NaN\n",
      "\n",
      "LTG6\n",
      "                sum_sq    df         F    PR(>F)\n",
      "mp        2.642196e-14   1.0  0.135108  0.717730\n",
      "eu        1.076101e-13   1.0  0.550260  0.468337\n",
      "Residual  3.324558e-12  17.0       NaN       NaN\n",
      "\n",
      "LTG7\n",
      "                sum_sq    df         F    PR(>F)\n",
      "mp        1.023738e-14   1.0  0.343846  0.565323\n",
      "eu        3.201380e-15   1.0  0.107526  0.746983\n",
      "Residual  5.061438e-13  17.0       NaN       NaN\n",
      "\n",
      "LTG8\n",
      "                sum_sq    df         F    PR(>F)\n",
      "mp        1.111646e-14   1.0  0.222521  0.643124\n",
      "eu        1.462024e-13   1.0  2.926563  0.105317\n",
      "Residual  8.492692e-13  17.0       NaN       NaN\n",
      "\n",
      "LTG13\n",
      "                sum_sq    df         F    PR(>F)\n",
      "mp        1.726617e-10   1.0  0.559536  0.464670\n",
      "eu        1.423304e-10   1.0  0.461243  0.506186\n",
      "Residual  5.245861e-09  17.0       NaN       NaN\n",
      "\n",
      "LTG14\n",
      "                sum_sq    df         F    PR(>F)\n",
      "mp        1.506767e-13   1.0  2.367382  0.142300\n",
      "eu        5.391966e-16   1.0  0.008472  0.927741\n",
      "Residual  1.081999e-12  17.0       NaN       NaN\n",
      "\n",
      "LTG15\n",
      "                sum_sq    df         F    PR(>F)\n",
      "mp        2.107451e-15   1.0  0.027441  0.870385\n",
      "eu        5.484458e-15   1.0  0.071412  0.792507\n",
      "Residual  1.305606e-12  17.0       NaN       NaN\n",
      "\n",
      "LTG16\n",
      "                sum_sq    df         F    PR(>F)\n",
      "mp        2.447090e-14   1.0  0.187639  0.670335\n",
      "eu        1.972646e-14   1.0  0.151259  0.702163\n",
      "Residual  2.217055e-12  17.0       NaN       NaN\n",
      "\n",
      "LTG21\n",
      "                sum_sq    df          F    PR(>F)\n",
      "mp        4.802697e-15   1.0   0.090545  0.767135\n",
      "eu        5.441029e-13   1.0  10.257908  0.005216\n",
      "Residual  9.017188e-13  17.0        NaN       NaN\n",
      "\n",
      "LTG22\n",
      "                sum_sq    df         F    PR(>F)\n",
      "mp        9.845062e-15   1.0  0.023208  0.880710\n",
      "eu        8.344034e-13   1.0  1.966977  0.178767\n",
      "Residual  7.211503e-12  17.0       NaN       NaN\n",
      "\n",
      "LTG23\n",
      "                sum_sq    df         F    PR(>F)\n",
      "mp        2.767840e-13   1.0  2.134932  0.162214\n",
      "eu        7.228557e-13   1.0  5.575641  0.030412\n",
      "Residual  2.203970e-12  17.0       NaN       NaN\n",
      "\n",
      "LTG24\n",
      "                sum_sq    df         F    PR(>F)\n",
      "mp        9.607853e-14   1.0  0.145038  0.708040\n",
      "eu        1.918952e-13   1.0  0.289681  0.597402\n",
      "Residual  1.126142e-11  17.0       NaN       NaN\n",
      "\n"
     ]
    }
   ],
   "source": [
    "#new code\n",
    "import pandas as pd\n",
    "import statsmodels.api as sm\n",
    "from statsmodels.formula.api import ols\n",
    "from statsmodels.stats.anova import anova_lm\n",
    "\n",
    "for i in channels2:\n",
    "    pwr_lm5 = ols('power ~ mp + eu', data=pwr_df5[pwr_df5.channel == i]).fit()\n",
    "    table5 = sm.stats.anova_lm(pwr_lm5, typ=2)\n",
    "    print(i)\n",
    "    print(table5)\n",
    "    print()"
   ]
  },
  {
   "cell_type": "code",
   "execution_count": 44,
   "metadata": {
    "collapsed": false
   },
   "outputs": [
    {
     "name": "stdout",
     "output_type": "stream",
     "text": [
      "This filename (/Users/andrew_bartuska/lab/ecog_data_analysis/patient_2007/john_2007.fif) does not conform to MNE naming conventions. All raw files should end with raw.fif, raw_sss.fif, raw_tsss.fif, raw.fif.gz, raw_sss.fif.gz or raw_tsss.fif.gz\n"
     ]
    },
    {
     "name": "stderr",
     "output_type": "stream",
     "text": [
      "/Users/andrew_bartuska/lab/ecogtools/ecogtools.py:34: RuntimeWarning: This filename (/Users/andrew_bartuska/lab/ecog_data_analysis/patient_2007/john_2007.fif) does not conform to MNE naming conventions. All raw files should end with raw.fif, raw_sss.fif, raw_tsss.fif, raw.fif.gz, raw_sss.fif.gz or raw_tsss.fif.gz\n",
      "  self.phys = mne.io.read_raw_fif(self.ecogfile, preload=False)\n"
     ]
    }
   ],
   "source": [
    "data6 = ecogtools.ToM_2010(patient_num3)\n",
    "\n",
    "# Get the times for task from behavioral data6\n",
    "tmin = int(data6.trig_and_behav.loc[0, 'trigger_time']-10)\n",
    "tmax = int(data6.trig_and_behav.loc[59, 'trigger_time']+10)\n",
    "\n",
    "# Get only physiology data6 that we actually want to look at for task.\n",
    "data6.phys.crop(tmin=tmin, tmax=tmax)\n",
    "\n",
    "# Load data6 and pick only channels that we care about.\n",
    "data6.phys.load_data()\n",
    "data6.phys.pick_channels(channels3)\n",
    "\n",
    "data6.phys.filter(80, 160)\n",
    "data6.phys.apply_hilbert(envelope=True)\n",
    "\n",
    "# New epochs object for filtered/HT data6\n",
    "data6.initialize_epochs_object(channels3, tmin=-6., tmax=6., baseline=None)\n",
    "\n",
    "tmin = -1\n",
    "tmax = 0\n",
    "\n",
    "# Evoked power for Time of Response\n",
    "#this was changed to specify mental/expected, physical/expected, mental/unexpected, and physical/unexpected \n",
    "ME_tr6 = data6.epochs[\"mental/expected/time_of_response\"].copy().crop(tmin=tmin, tmax=tmax).get_data()\n",
    "PE_tr6 = data6.epochs[\"physical/expected/time_of_response\"].copy().crop(tmin=tmin, tmax=tmax).get_data()\n",
    "MU_tr6 = data6.epochs[\"mental/unexpected/time_of_response\"].copy().crop(tmin=tmin, tmax=tmax).get_data()\n",
    "PU_tr6 = data6.epochs[\"physical/unexpected/time_of_response\"].copy().crop(tmin=tmin, tmax=tmax).get_data()\n",
    "\n",
    "#new code\n",
    "df_list = []\n",
    "for pwr, mp, eu in zip([ME_tr6, PE_tr6, MU_tr6, PU_tr6], \n",
    "                       ['mental', 'physical', 'mental', 'physical'], \n",
    "                       ['expected', 'expected', 'unexpected', 'unexpected']):\n",
    "    dd = pd.DataFrame(np.mean(pwr, axis=2), columns=channels3)\n",
    "    dd = dd.stack().reset_index()\n",
    "    dd.columns = ['trial', 'channel', 'power']\n",
    "    dd['mp'] = mp\n",
    "    dd['eu'] = eu\n",
    "    df_list.append(dd)\n",
    "pwr_df6 = pd.concat(df_list)"
   ]
  },
  {
   "cell_type": "code",
   "execution_count": 45,
   "metadata": {
    "collapsed": false
   },
   "outputs": [
    {
     "name": "stdout",
     "output_type": "stream",
     "text": [
      "RFG5\n",
      "                sum_sq    df         F    PR(>F)\n",
      "mp        3.852796e-14   1.0  0.300262  0.591282\n",
      "eu        2.561326e-13   1.0  1.996133  0.176858\n",
      "Residual  2.053031e-12  16.0       NaN       NaN\n",
      "\n",
      "RFG6\n",
      "                sum_sq    df         F    PR(>F)\n",
      "mp        4.997023e-14   1.0  0.341312  0.567219\n",
      "eu        1.020468e-13   1.0  0.697011  0.416082\n",
      "Residual  2.342499e-12  16.0       NaN       NaN\n",
      "\n",
      "RFG7\n",
      "                sum_sq    df         F    PR(>F)\n",
      "mp        4.473002e-13   1.0  1.070255  0.316272\n",
      "eu        1.850542e-13   1.0  0.442779  0.515263\n",
      "Residual  6.687009e-12  16.0       NaN       NaN\n",
      "\n",
      "RFG8\n",
      "                sum_sq    df         F    PR(>F)\n",
      "mp        9.464595e-13   1.0  2.636391  0.123975\n",
      "eu        2.374029e-13   1.0  0.661293  0.428040\n",
      "Residual  5.743969e-12  16.0       NaN       NaN\n",
      "\n",
      "RFG13\n",
      "                sum_sq    df         F    PR(>F)\n",
      "mp        2.663453e-15   1.0  0.017406  0.896683\n",
      "eu        1.465539e-14   1.0  0.095776  0.760953\n",
      "Residual  2.448288e-12  16.0       NaN       NaN\n",
      "\n",
      "RFG14\n",
      "                sum_sq    df         F    PR(>F)\n",
      "mp        7.722915e-13   1.0  1.968989  0.179664\n",
      "eu        2.150157e-13   1.0  0.548192  0.469784\n",
      "Residual  6.275638e-12  16.0       NaN       NaN\n",
      "\n",
      "RFG15\n",
      "                sum_sq    df         F    PR(>F)\n",
      "mp        3.022771e-14   1.0  0.141425  0.711808\n",
      "eu        1.168658e-13   1.0  0.546776  0.470348\n",
      "Residual  3.419777e-12  16.0       NaN       NaN\n",
      "\n",
      "RFG16\n",
      "                sum_sq    df         F    PR(>F)\n",
      "mp        5.760596e-14   1.0  0.675495  0.423221\n",
      "eu        5.186111e-14   1.0  0.608130  0.446876\n",
      "Residual  1.364474e-12  16.0       NaN       NaN\n",
      "\n",
      "RFG21\n",
      "                sum_sq    df         F    PR(>F)\n",
      "mp        4.151477e-14   1.0  0.432333  0.520194\n",
      "eu        3.835610e-14   1.0  0.399439  0.536306\n",
      "Residual  1.536400e-12  16.0       NaN       NaN\n",
      "\n",
      "RFG22\n",
      "                sum_sq    df         F    PR(>F)\n",
      "mp        7.463096e-14   1.0  1.092414  0.311471\n",
      "eu        9.835435e-15   1.0  0.143967  0.709358\n",
      "Residual  1.093079e-12  16.0       NaN       NaN\n",
      "\n",
      "RFG23\n",
      "                sum_sq    df         F    PR(>F)\n",
      "mp        1.857183e-13   1.0  1.893360  0.187779\n",
      "eu        5.136851e-15   1.0  0.052369  0.821890\n",
      "Residual  1.569429e-12  16.0       NaN       NaN\n",
      "\n",
      "RFG24\n",
      "                sum_sq    df         F    PR(>F)\n",
      "mp        1.941889e-13   1.0  1.858774  0.191644\n",
      "eu        2.028113e-13   1.0  1.941308  0.182582\n",
      "Residual  1.671544e-12  16.0       NaN       NaN\n",
      "\n"
     ]
    }
   ],
   "source": [
    "#new code\n",
    "import pandas as pd\n",
    "import statsmodels.api as sm\n",
    "from statsmodels.formula.api import ols\n",
    "from statsmodels.stats.anova import anova_lm\n",
    "\n",
    "for i in channels3:\n",
    "    pwr_lm6 = ols('power ~ mp + eu', data=pwr_df6[pwr_df6.channel == i]).fit()\n",
    "    table6 = sm.stats.anova_lm(pwr_lm6, typ=2)\n",
    "    print(i)\n",
    "    print(table6)\n",
    "    print()"
   ]
  },
  {
   "cell_type": "markdown",
   "metadata": {},
   "source": [
    "# Figure 9"
   ]
  },
  {
   "cell_type": "code",
   "execution_count": 48,
   "metadata": {
    "collapsed": false
   },
   "outputs": [
    {
     "data": {
      "image/png": "[encoded data removed]",
      "text/plain": [
       "<matplotlib.figure.Figure at 0x12005ad50>"
      ]
     },
     "metadata": {},
     "output_type": "display_data"
    }
   ],
   "source": [
    "fig, axes = plt.subplots(3, 1)\n",
    "fig.set_size_inches(6.5, 8.5);\n",
    "\n",
    "boxColors= ['#1f78b4', '#a6cee3', '#33a02c', '#b2df8a']\n",
    "medianColor= \"white\"\n",
    "\n",
    "OD = pwr_df4.boxplot(column='power', by=['channel', 'mp', 'eu'], ax=axes[0], return_type='dict', patch_artist=True)\n",
    "bp4 = OD['power']\n",
    "plt.setp(bp4['boxes'][0::4], color=boxColors[0], linewidth=1.5)\n",
    "plt.setp(bp4['boxes'][1::4], color=boxColors[1], linewidth=1.5)\n",
    "plt.setp(bp4['boxes'][2::4], color=boxColors[2], linewidth=1.5)\n",
    "plt.setp(bp4['boxes'][3::4], color=boxColors[3], linewidth=1.5)\n",
    "plt.setp(bp4['medians'], color=medianColor, linewidth=1.25)\n",
    "plt.setp(bp4['whiskers'], color='black', linewidth=1.25, linestyle='solid')\n",
    "plt.setp(bp4['caps'], color='black', linewidth=1.25)\n",
    "plt.sca(axes[0])\n",
    "plt.xticks(np.arange(2, len(channels1)*4, 4), channels1, rotation=45);\n",
    "axes[0].set_yticklabels(axes[0].get_yticks()*1000000)\n",
    "axes[0].set_title(\"Patient 1\");\n",
    "axes[0].set_axis_bgcolor('white')\n",
    "axes[0].set_ylim(0.000002, 0.000009)\n",
    "axes[0].set_ylabel(\"microVolts\")\n",
    "axes[0].set_xlabel(\"\")\n",
    "\n",
    "OD = pwr_df5.boxplot(column='power', by=['channel', 'mp', 'eu'], ax=axes[1], return_type='dict', patch_artist=True)\n",
    "bp5 = OD['power']\n",
    "plt.setp(bp5['boxes'][0::2], color=boxColors[0], linewidth=1.5)\n",
    "plt.setp(bp5['boxes'][1::2], color=boxColors[1], linewidth=1.5)\n",
    "plt.setp(bp5['boxes'][2::4], color=boxColors[2], linewidth=1.5)\n",
    "plt.setp(bp5['boxes'][3::4], color=boxColors[3], linewidth=1.5)\n",
    "plt.setp(bp5['medians'], color=medianColor, linewidth=1.25)\n",
    "plt.setp(bp5['whiskers'], color='black', linewidth=1.25, linestyle='solid')\n",
    "plt.setp(bp5['caps'], color='black', linewidth=1.25)\n",
    "plt.sca(axes[1])\n",
    "plt.xticks(np.arange(2, len(channels2)*4, 4), channels2, rotation=45);\n",
    "axes[1].set_yticklabels(axes[1].get_yticks()*100000)\n",
    "axes[1].set_title(\"Patient 2\")\n",
    "axes[1].set_axis_bgcolor('white')\n",
    "axes[1].set_ylim(0.000001, 0.000009)\n",
    "axes[1].set_ylabel(\"microVolts\")\n",
    "axes[1].set_xlabel(\"\")\n",
    "\n",
    "OD = pwr_df6.boxplot(column='power', by=['channel', 'mp', 'eu'], ax=axes[2], return_type='dict', patch_artist=True)\n",
    "bp6 = OD['power']\n",
    "plt.setp(bp6['boxes'][0::2], color=boxColors[0], linewidth=1.5)\n",
    "plt.setp(bp6['boxes'][1::2], color=boxColors[1], linewidth=1.5)\n",
    "plt.setp(bp6['boxes'][2::4], color=boxColors[2], linewidth=1.5)\n",
    "plt.setp(bp6['boxes'][3::4], color=boxColors[3], linewidth=1.5)\n",
    "plt.setp(bp6['medians'], color=medianColor, linewidth=1.25)\n",
    "plt.setp(bp6['whiskers'], color='black', linewidth=1.25, linestyle='solid')\n",
    "plt.setp(bp6['caps'], color='black', linewidth=1.25)\n",
    "plt.sca(axes[2])\n",
    "plt.xticks(np.arange(2, len(channels3)*4, 4), channels3, rotation=45);\n",
    "axes[2].set_yticklabels(axes[2].get_yticks()*1000000)\n",
    "axes[2].set_title(\"Patient 3\")\n",
    "axes[2].set_axis_bgcolor('white')\n",
    "#axes[2].set_ylim(0.000002, 0.000009)\n",
    "axes[2].set_ylabel(\"microVolts\")\n",
    "axes[2].set_xlabel(\"\")\n",
    "\n",
    "plt.figtext(0.625, 0.9, 'mental-expected',\n",
    "            backgroundcolor=boxColors[0], color='white', weight='roman', size='medium')\n",
    "plt.figtext(0.60, 0.87, 'mental-unexpected',\n",
    "            backgroundcolor=boxColors[1], color='white', weight='roman', size='medium')\n",
    "plt.figtext(0.80, 0.9, 'physical-expected',\n",
    "            backgroundcolor=boxColors[2], color='white', weight='roman', size='medium')\n",
    "plt.figtext(0.80, 0.87, 'physical-unexpected',\n",
    "            backgroundcolor=boxColors[3], color='white', weight='roman', size='medium')\n",
    "\n",
    "plt.suptitle(\"\")\n",
    "plt.tight_layout()\n",
    "\n",
    "fig.savefig(\"F9-Average Power Attention.pdf\")"
   ]
  }
 ],
 "metadata": {
  "anaconda-cloud": {},
  "kernelspec": {
   "display_name": "Python [Root]",
   "language": "python",
   "name": "Python [Root]"
  },
  "language_info": {
   "codemirror_mode": {
    "name": "ipython",
    "version": 2
   },
   "file_extension": ".py",
   "mimetype": "text/x-python",
   "name": "python",
   "nbconvert_exporter": "python",
   "pygments_lexer": "ipython2",
   "version": "2.7.11"
  }
 },
 "nbformat": 4,
 "nbformat_minor": 0
}
